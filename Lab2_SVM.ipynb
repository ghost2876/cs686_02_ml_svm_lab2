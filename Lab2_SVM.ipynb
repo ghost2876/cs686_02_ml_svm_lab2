{
 "cells": [
  {
   "cell_type": "code",
   "execution_count": 1,
   "metadata": {},
   "outputs": [
    {
     "name": "stderr",
     "output_type": "stream",
     "text": [
      "C:\\Users\\Alex_Guo\\Anaconda3\\lib\\site-packages\\statsmodels\\compat\\pandas.py:56: FutureWarning: The pandas.core.datetools module is deprecated and will be removed in a future version. Please use the pandas.tseries module instead.\n",
      "  from pandas.core import datetools\n"
     ]
    }
   ],
   "source": [
    "import numpy as np\n",
    "import pandas as pd\n",
    "import os\n",
    "import seaborn as sns\n",
    "import matplotlib.pyplot as plt \n",
    "%matplotlib inline\n",
    "import statsmodels.api as sm \n",
    "import patsy"
   ]
  },
  {
   "cell_type": "code",
   "execution_count": 2,
   "metadata": {},
   "outputs": [
    {
     "data": {
      "text/html": [
       "<div>\n",
       "<style>\n",
       "    .dataframe thead tr:only-child th {\n",
       "        text-align: right;\n",
       "    }\n",
       "\n",
       "    .dataframe thead th {\n",
       "        text-align: left;\n",
       "    }\n",
       "\n",
       "    .dataframe tbody tr th {\n",
       "        vertical-align: top;\n",
       "    }\n",
       "</style>\n",
       "<table border=\"1\" class=\"dataframe\">\n",
       "  <thead>\n",
       "    <tr style=\"text-align: right;\">\n",
       "      <th></th>\n",
       "      <th>x1</th>\n",
       "      <th>x2</th>\n",
       "      <th>y</th>\n",
       "    </tr>\n",
       "  </thead>\n",
       "  <tbody>\n",
       "    <tr>\n",
       "      <th>0</th>\n",
       "      <td>3.948420</td>\n",
       "      <td>-0.319132</td>\n",
       "      <td>1</td>\n",
       "    </tr>\n",
       "    <tr>\n",
       "      <th>1</th>\n",
       "      <td>5.913813</td>\n",
       "      <td>0.125970</td>\n",
       "      <td>1</td>\n",
       "    </tr>\n",
       "  </tbody>\n",
       "</table>\n",
       "</div>"
      ],
      "text/plain": [
       "         x1        x2  y\n",
       "0  3.948420 -0.319132  1\n",
       "1  5.913813  0.125970  1"
      ]
     },
     "execution_count": 2,
     "metadata": {},
     "output_type": "execute_result"
    }
   ],
   "source": [
    "# load data\n",
    "testDataSet = pd.read_table('linearly_separable.csv', header=None, delimiter=',')\n",
    "testDataSet.columns = ['x1', 'x2', 'y']\n",
    "testDataSet.head(2)"
   ]
  },
  {
   "cell_type": "code",
   "execution_count": 3,
   "metadata": {},
   "outputs": [
    {
     "data": {
      "image/png": "[encoded data removed]",
      "text/plain": [
       "<matplotlib.figure.Figure at 0x493f57c4e0>"
      ]
     },
     "metadata": {},
     "output_type": "display_data"
    }
   ],
   "source": [
    "# task 1: plot the data and confirm it is linearly separable\n",
    "x = np.array(testDataSet.x1)\n",
    "y = np.array(testDataSet.x2)\n",
    "c = np.array(testDataSet.y)\n",
    "plt.scatter(x, y, c=c)\n",
    "plt.show()"
   ]
  },
  {
   "cell_type": "code",
   "execution_count": 4,
   "metadata": {},
   "outputs": [
    {
     "data": {
      "text/plain": [
       "100"
      ]
     },
     "execution_count": 4,
     "metadata": {},
     "output_type": "execute_result"
    }
   ],
   "source": [
    "# check the total count of data\n",
    "len(testDataSet)"
   ]
  },
  {
   "cell_type": "code",
   "execution_count": 10,
   "metadata": {},
   "outputs": [],
   "source": [
    "# split the data into training set and test set, use training set (top 70% data) for training, use test set (last 30% data) for verify\n",
    "train_data = testDataSet.iloc[0:70,:]\n",
    "test_data = testDataSet.iloc[70:,:]\n",
    "train_data.to_csv('linearly_separable_train.csv',index=False,header=None)\n",
    "test_data.to_csv('linearly_separable_verify.csv',index=False,header=None)"
   ]
  },
  {
   "cell_type": "code",
   "execution_count": 12,
   "metadata": {},
   "outputs": [
    {
     "name": "stdout",
     "output_type": "stream",
     "text": [
      "fullSet, iter: 0 i:0, pairs changed 1\n",
      "fullSet, iter: 0 i:1, pairs changed 1\n",
      "fullSet, iter: 0 i:2, pairs changed 1\n",
      "fullSet, iter: 0 i:3, pairs changed 1\n",
      "fullSet, iter: 0 i:4, pairs changed 2\n",
      "fullSet, iter: 0 i:5, pairs changed 3\n",
      "fullSet, iter: 0 i:6, pairs changed 4\n",
      "fullSet, iter: 0 i:7, pairs changed 5\n",
      "fullSet, iter: 0 i:8, pairs changed 6\n",
      "fullSet, iter: 0 i:9, pairs changed 6\n",
      "j not moving enough\n",
      "fullSet, iter: 0 i:10, pairs changed 6\n",
      "fullSet, iter: 0 i:11, pairs changed 7\n",
      "j not moving enough\n",
      "fullSet, iter: 0 i:12, pairs changed 7\n",
      "j not moving enough\n",
      "fullSet, iter: 0 i:13, pairs changed 7\n",
      "fullSet, iter: 0 i:14, pairs changed 7\n",
      "fullSet, iter: 0 i:15, pairs changed 7\n",
      "j not moving enough\n",
      "fullSet, iter: 0 i:16, pairs changed 7\n",
      "fullSet, iter: 0 i:17, pairs changed 7\n",
      "fullSet, iter: 0 i:18, pairs changed 8\n",
      "fullSet, iter: 0 i:19, pairs changed 8\n",
      "fullSet, iter: 0 i:20, pairs changed 8\n",
      "fullSet, iter: 0 i:21, pairs changed 8\n",
      "fullSet, iter: 0 i:22, pairs changed 8\n",
      "fullSet, iter: 0 i:23, pairs changed 8\n",
      "fullSet, iter: 0 i:24, pairs changed 8\n",
      "fullSet, iter: 0 i:25, pairs changed 8\n",
      "fullSet, iter: 0 i:26, pairs changed 8\n",
      "fullSet, iter: 0 i:27, pairs changed 8\n",
      "fullSet, iter: 0 i:28, pairs changed 8\n",
      "fullSet, iter: 0 i:29, pairs changed 8\n",
      "fullSet, iter: 0 i:30, pairs changed 8\n",
      "fullSet, iter: 0 i:31, pairs changed 8\n",
      "fullSet, iter: 0 i:32, pairs changed 8\n",
      "fullSet, iter: 0 i:33, pairs changed 8\n",
      "L==H\n",
      "fullSet, iter: 0 i:34, pairs changed 8\n",
      "j not moving enough\n",
      "fullSet, iter: 0 i:35, pairs changed 8\n",
      "fullSet, iter: 0 i:36, pairs changed 8\n",
      "fullSet, iter: 0 i:37, pairs changed 8\n",
      "fullSet, iter: 0 i:38, pairs changed 8\n",
      "fullSet, iter: 0 i:39, pairs changed 8\n",
      "fullSet, iter: 0 i:40, pairs changed 8\n",
      "fullSet, iter: 0 i:41, pairs changed 8\n",
      "fullSet, iter: 0 i:42, pairs changed 8\n",
      "L==H\n",
      "fullSet, iter: 0 i:43, pairs changed 8\n",
      "fullSet, iter: 0 i:44, pairs changed 8\n",
      "fullSet, iter: 0 i:45, pairs changed 8\n",
      "fullSet, iter: 0 i:46, pairs changed 8\n",
      "fullSet, iter: 0 i:47, pairs changed 8\n",
      "fullSet, iter: 0 i:48, pairs changed 8\n",
      "fullSet, iter: 0 i:49, pairs changed 8\n",
      "fullSet, iter: 0 i:50, pairs changed 8\n",
      "fullSet, iter: 0 i:51, pairs changed 8\n",
      "fullSet, iter: 0 i:52, pairs changed 8\n",
      "fullSet, iter: 0 i:53, pairs changed 8\n",
      "L==H\n",
      "fullSet, iter: 0 i:54, pairs changed 8\n",
      "fullSet, iter: 0 i:55, pairs changed 8\n",
      "fullSet, iter: 0 i:56, pairs changed 8\n",
      "fullSet, iter: 0 i:57, pairs changed 8\n",
      "fullSet, iter: 0 i:58, pairs changed 8\n",
      "fullSet, iter: 0 i:59, pairs changed 8\n",
      "fullSet, iter: 0 i:60, pairs changed 8\n",
      "fullSet, iter: 0 i:61, pairs changed 8\n",
      "fullSet, iter: 0 i:62, pairs changed 8\n",
      "fullSet, iter: 0 i:63, pairs changed 8\n",
      "fullSet, iter: 0 i:64, pairs changed 8\n",
      "fullSet, iter: 0 i:65, pairs changed 8\n",
      "fullSet, iter: 0 i:66, pairs changed 8\n",
      "fullSet, iter: 0 i:67, pairs changed 8\n",
      "fullSet, iter: 0 i:68, pairs changed 8\n",
      "fullSet, iter: 0 i:69, pairs changed 8\n",
      "iteration number: 1\n",
      "j not moving enough\n",
      "non-bound, iter: 1 i:4, pairs changed 0\n",
      "j not moving enough\n",
      "non-bound, iter: 1 i:5, pairs changed 0\n",
      "non-bound, iter: 1 i:7, pairs changed 0\n",
      "j not moving enough\n",
      "non-bound, iter: 1 i:8, pairs changed 0\n",
      "j not moving enough\n",
      "non-bound, iter: 1 i:11, pairs changed 0\n",
      "non-bound, iter: 1 i:18, pairs changed 0\n",
      "j not moving enough\n",
      "non-bound, iter: 1 i:35, pairs changed 0\n",
      "iteration number: 2\n",
      "fullSet, iter: 2 i:0, pairs changed 0\n",
      "fullSet, iter: 2 i:1, pairs changed 0\n",
      "fullSet, iter: 2 i:2, pairs changed 0\n",
      "fullSet, iter: 2 i:3, pairs changed 0\n",
      "j not moving enough\n",
      "fullSet, iter: 2 i:4, pairs changed 0\n",
      "j not moving enough\n",
      "fullSet, iter: 2 i:5, pairs changed 0\n",
      "fullSet, iter: 2 i:6, pairs changed 0\n",
      "fullSet, iter: 2 i:7, pairs changed 0\n",
      "j not moving enough\n",
      "fullSet, iter: 2 i:8, pairs changed 0\n",
      "fullSet, iter: 2 i:9, pairs changed 0\n",
      "fullSet, iter: 2 i:10, pairs changed 0\n",
      "j not moving enough\n",
      "fullSet, iter: 2 i:11, pairs changed 0\n",
      "fullSet, iter: 2 i:12, pairs changed 0\n",
      "fullSet, iter: 2 i:13, pairs changed 0\n",
      "fullSet, iter: 2 i:14, pairs changed 0\n",
      "fullSet, iter: 2 i:15, pairs changed 0\n",
      "fullSet, iter: 2 i:16, pairs changed 0\n",
      "fullSet, iter: 2 i:17, pairs changed 0\n",
      "fullSet, iter: 2 i:18, pairs changed 0\n",
      "fullSet, iter: 2 i:19, pairs changed 0\n",
      "fullSet, iter: 2 i:20, pairs changed 0\n",
      "fullSet, iter: 2 i:21, pairs changed 0\n",
      "fullSet, iter: 2 i:22, pairs changed 0\n",
      "fullSet, iter: 2 i:23, pairs changed 0\n",
      "fullSet, iter: 2 i:24, pairs changed 0\n",
      "fullSet, iter: 2 i:25, pairs changed 0\n",
      "fullSet, iter: 2 i:26, pairs changed 0\n",
      "fullSet, iter: 2 i:27, pairs changed 0\n",
      "fullSet, iter: 2 i:28, pairs changed 0\n",
      "fullSet, iter: 2 i:29, pairs changed 0\n",
      "fullSet, iter: 2 i:30, pairs changed 0\n",
      "fullSet, iter: 2 i:31, pairs changed 0\n",
      "fullSet, iter: 2 i:32, pairs changed 0\n",
      "fullSet, iter: 2 i:33, pairs changed 0\n",
      "L==H\n",
      "fullSet, iter: 2 i:34, pairs changed 0\n",
      "j not moving enough\n",
      "fullSet, iter: 2 i:35, pairs changed 0\n",
      "fullSet, iter: 2 i:36, pairs changed 0\n",
      "fullSet, iter: 2 i:37, pairs changed 0\n",
      "fullSet, iter: 2 i:38, pairs changed 0\n",
      "fullSet, iter: 2 i:39, pairs changed 0\n",
      "fullSet, iter: 2 i:40, pairs changed 0\n",
      "fullSet, iter: 2 i:41, pairs changed 0\n",
      "fullSet, iter: 2 i:42, pairs changed 0\n",
      "L==H\n",
      "fullSet, iter: 2 i:43, pairs changed 0\n",
      "fullSet, iter: 2 i:44, pairs changed 0\n",
      "fullSet, iter: 2 i:45, pairs changed 0\n",
      "fullSet, iter: 2 i:46, pairs changed 0\n",
      "fullSet, iter: 2 i:47, pairs changed 0\n",
      "fullSet, iter: 2 i:48, pairs changed 0\n",
      "fullSet, iter: 2 i:49, pairs changed 0\n",
      "fullSet, iter: 2 i:50, pairs changed 0\n",
      "fullSet, iter: 2 i:51, pairs changed 0\n",
      "fullSet, iter: 2 i:52, pairs changed 0\n",
      "fullSet, iter: 2 i:53, pairs changed 0\n",
      "L==H\n",
      "fullSet, iter: 2 i:54, pairs changed 0\n",
      "fullSet, iter: 2 i:55, pairs changed 0\n",
      "fullSet, iter: 2 i:56, pairs changed 0\n",
      "fullSet, iter: 2 i:57, pairs changed 0\n",
      "fullSet, iter: 2 i:58, pairs changed 0\n",
      "fullSet, iter: 2 i:59, pairs changed 0\n",
      "fullSet, iter: 2 i:60, pairs changed 0\n",
      "fullSet, iter: 2 i:61, pairs changed 0\n",
      "fullSet, iter: 2 i:62, pairs changed 0\n",
      "fullSet, iter: 2 i:63, pairs changed 0\n",
      "fullSet, iter: 2 i:64, pairs changed 0\n",
      "fullSet, iter: 2 i:65, pairs changed 0\n",
      "fullSet, iter: 2 i:66, pairs changed 0\n",
      "fullSet, iter: 2 i:67, pairs changed 0\n",
      "fullSet, iter: 2 i:68, pairs changed 0\n",
      "fullSet, iter: 2 i:69, pairs changed 0\n",
      "iteration number: 3\n",
      "Weights: [-0.43523060866200547, 0.63809080854704514, -0.4469372452437948]\n",
      "3\n",
      "[-2.40150363 -2.25873397 -2.1159643  -1.97319464 -1.83042497 -1.6876553\n",
      " -1.54488564 -1.40211597 -1.25934631 -1.11657664 -0.97380698 -0.83103731\n",
      " -0.68826765 -0.54549798 -0.40272832 -0.25995865 -0.11718899  0.02558068\n",
      "  0.16835034  0.31112001  0.45388967  0.59665934  0.739429    0.88219867\n",
      "  1.02496833  1.167738    1.31050766  1.45327733  1.59604699  1.73881666\n",
      "  1.88158632  2.02435599  2.16712565  2.30989532  2.45266498  2.59543465\n",
      "  2.73820432  2.88097398  3.02374365  3.16651331  3.30928298  3.45205264\n",
      "  3.59482231  3.73759197  3.88036164  4.0231313   4.16590097  4.30867063\n",
      "  4.4514403   4.59420996  4.73697963  4.87974929  5.02251896  5.16528862\n",
      "  5.30805829  5.45082795  5.59359762  5.73636728  5.87913695  6.02190661\n",
      "  6.16467628  6.30744594  6.45021561  6.59298527  6.73575494  6.87852461\n",
      "  7.02129427  7.16406394  7.3068336   7.44960327]\n"
     ]
    },
    {
     "data": {
      "image/png": "[encoded data removed]",
      "text/plain": [
       "<matplotlib.figure.Figure at 0x493fa36208>"
      ]
     },
     "metadata": {},
     "output_type": "display_data"
    },
    {
     "name": "stdout",
     "output_type": "stream",
     "text": [
      "Accuracy: 1.0\n",
      "-----------------------------\n",
      "\tConfusion Matrix\n",
      "-----------------------------\n",
      "\t\tPredicted\n",
      "\tActual\tNO\tYES\n",
      "-----------------------------\n",
      "\tNO\t 12.0 \t 0.0\n",
      "-----------------------------\n",
      "\tYES\t 0.0 \t 18.0\n",
      "-----------------------------\n"
     ]
    }
   ],
   "source": [
    "# task 2: fit the svm, calculate out the parameters, perform test on testSet, check accuracy and confusion matrix, plot the classification line\n",
    "%run test_svm_basic.py"
   ]
  }
 ],
 "metadata": {
  "kernelspec": {
   "display_name": "Python 3",
   "language": "python",
   "name": "python3"
  },
  "language_info": {
   "codemirror_mode": {
    "name": "ipython",
    "version": 3
   },
   "file_extension": ".py",
   "mimetype": "text/x-python",
   "name": "python",
   "nbconvert_exporter": "python",
   "pygments_lexer": "ipython3",
   "version": "3.6.1"
  }
 },
 "nbformat": 4,
 "nbformat_minor": 2
}
